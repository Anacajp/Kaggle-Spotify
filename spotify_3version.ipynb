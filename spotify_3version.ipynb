{
 "cells": [
  {
   "cell_type": "markdown",
   "metadata": {},
   "source": [
    "# Análise da Popularidade de Músicas"
   ]
  },
  {
   "cell_type": "markdown",
   "metadata": {},
   "source": [
    "Este projeto visa explorar e prever a popularidade de músicas utilizando dados disponíveis em um conjunto de dados do Kaggle. O objetivo é aplicar técnicas de ciência de dados e machine learning para desenvolver um modelo preditivo que classifique a popularidade de faixas musicais. O processo inclui a limpeza e preparação dos dados, análise exploratória, seleção de features, construção do modelo e avaliação de desempenho."
   ]
  },
  {
   "cell_type": "markdown",
   "metadata": {},
   "source": [
    "Aqui ocorre a importação das bibliotecas que serão utilizadas no projeto, incluindo também o modelo preditivo."
   ]
  },
  {
   "cell_type": "code",
   "execution_count": 1,
   "metadata": {},
   "outputs": [],
   "source": [
    "import pandas as pd\n",
    "import matplotlib.pyplot as plt\n",
    "import seaborn as sns\n",
    "from sklearn.model_selection import train_test_split\n",
    "from sklearn.preprocessing import MinMaxScaler\n",
    "from sklearn.metrics import accuracy_score, precision_score, recall_score, f1_score, confusion_matrix\n",
    "from sklearn.ensemble import RandomForestClassifier"
   ]
  },
  {
   "cell_type": "markdown",
   "metadata": {},
   "source": [
    "Carrega os datasets dos dados de teste e de treino fornecidos na plataforma kaggle, a partir de dados no formato de CSV."
   ]
  },
  {
   "cell_type": "code",
   "execution_count": 2,
   "metadata": {},
   "outputs": [],
   "source": [
    "\n",
    "train_data = pd.read_csv('train.csv')\n",
    "test_data = pd.read_csv('test.csv')"
   ]
  },
  {
   "cell_type": "markdown",
   "metadata": {},
   "source": [
    "## Limpeza dos Dados"
   ]
  },
  {
   "cell_type": "markdown",
   "metadata": {},
   "source": [
    "Nesta seção, colunas irrelevantes que não contribuirão para a análise são removidas, e a coluna explicit é convertida de booleano para inteiro. Este processo ajuda a garantir que o modelo utilize apenas as informações relevantes."
   ]
  },
  {
   "cell_type": "code",
   "execution_count": 3,
   "metadata": {},
   "outputs": [],
   "source": [
    "# Remover colunas irrelevantes\n",
    "train_data = train_data.drop(columns=['track_id', 'track_name'])\n",
    "test_data = test_data.drop(columns=['track_id', 'track_name'])\n",
    "\n",
    "# Organiza a coluna explicit(bool) e classifica no \n",
    "# astype transforma o bool em int. False=0 e True=1. \n",
    "train_data['explicit'] = train_data['explicit'].astype(int)\n",
    "test_data['explicit'] = test_data['explicit'].astype(int)\n"
   ]
  },
  {
   "cell_type": "markdown",
   "metadata": {},
   "source": [
    "## Análise Exploratória de Dados "
   ]
  },
  {
   "cell_type": "markdown",
   "metadata": {},
   "source": [
    "A Análise Exploratória de Dados (EDA) é uma etapa vital que permite entender melhor as características do conjunto de dados, identificar padrões, tendências e possíveis problemas nos dados.\n",
    "\n",
    " Essa análise ajuda a identificar padrões e tendências nos dados. As visualizações permitem uma melhor comunicação dos insights, que serão utilizados na modelagem e seleção de features."
   ]
  },
  {
   "cell_type": "markdown",
   "metadata": {},
   "source": [
    "Além disso, o trecho de código abaixo realizada a verificação de valores nulos. "
   ]
  },
  {
   "cell_type": "code",
   "execution_count": 4,
   "metadata": {},
   "outputs": [
    {
     "name": "stdout",
     "output_type": "stream",
     "text": [
      "Valores Ausentes:\n",
      " Series([], dtype: int64)\n",
      "Estatísticas Descritivas:\n",
      "        track_unique_id   duration_ms      explicit  danceability  \\\n",
      "count     79800.000000  7.980000e+04  79800.000000  79800.000000   \n",
      "mean      57140.494048  2.279022e+05      0.085689      0.567318   \n",
      "std       32993.196225  1.050599e+05      0.279906      0.173110   \n",
      "min           0.000000  1.338600e+04      0.000000      0.000000   \n",
      "25%       28450.500000  1.744360e+05      0.000000      0.456000   \n",
      "50%       57234.000000  2.128130e+05      0.000000      0.581000   \n",
      "75%       85774.250000  2.614260e+05      0.000000      0.695000   \n",
      "max      113998.000000  5.237295e+06      1.000000      0.985000   \n",
      "\n",
      "             energy           key      loudness          mode   speechiness  \\\n",
      "count  79800.000000  79800.000000  79800.000000  79800.000000  79800.000000   \n",
      "mean       0.641529      5.307043     -8.263741      0.637732      0.084750   \n",
      "std        0.251441      3.562186      5.035504      0.480659      0.105657   \n",
      "min        0.000019      0.000000    -49.307000      0.000000      0.000000   \n",
      "25%        0.472000      2.000000    -10.006000      0.000000      0.035900   \n",
      "50%        0.685000      5.000000     -7.012000      1.000000      0.049000   \n",
      "75%        0.854000      8.000000     -5.000000      1.000000      0.084500   \n",
      "max        1.000000     11.000000      4.532000      1.000000      0.965000   \n",
      "\n",
      "       acousticness  instrumentalness      liveness       valence  \\\n",
      "count  79800.000000      79800.000000  79800.000000  79800.000000   \n",
      "mean       0.314979          0.157319      0.213313      0.474267   \n",
      "std        0.332512          0.310792      0.190075      0.259010   \n",
      "min        0.000000          0.000000      0.000000      0.000000   \n",
      "25%        0.017000          0.000000      0.097900      0.261000   \n",
      "50%        0.169000          0.000041      0.132000      0.464000   \n",
      "75%        0.598000          0.050500      0.273000      0.684000   \n",
      "max        0.996000          1.000000      1.000000      0.995000   \n",
      "\n",
      "              tempo  time_signature  popularity_target  \n",
      "count  79800.000000    79800.000000       79800.000000  \n",
      "mean     122.076559        3.902556           0.487845  \n",
      "std       29.941937        0.434284           0.499855  \n",
      "min        0.000000        0.000000           0.000000  \n",
      "25%       99.081250        4.000000           0.000000  \n",
      "50%      122.009000        4.000000           0.000000  \n",
      "75%      140.054000        4.000000           1.000000  \n",
      "max      222.605000        5.000000           1.000000  \n"
     ]
    }
   ],
   "source": [
    "# 1. Verificação de valores ausentes\n",
    "missing_values = train_data.isnull().sum()\n",
    "print(\"Valores Ausentes:\\n\", missing_values[missing_values > 0])\n",
    "\n",
    "# 2. Estatísticas descritivas\n",
    "print(\"Estatísticas Descritivas:\\n\", train_data.describe())"
   ]
  },
  {
   "cell_type": "markdown",
   "metadata": {},
   "source": [
    "## Codificação de Variáveis Categóricas"
   ]
  },
  {
   "cell_type": "markdown",
   "metadata": {},
   "source": [
    "As variáveis categóricas são codificadas usando um método de codificação alvo, que mapeia a média da popularidade de cada categoria. Isso é feito para assegurar que a informação essencial não seja perdida durante a transformação."
   ]
  },
  {
   "cell_type": "code",
   "execution_count": 5,
   "metadata": {},
   "outputs": [],
   "source": [
    "# Definir uma função para codificação manual baseada na média da variável alvo\n",
    "def target_encode(train_col, target_col, test_col):\n",
    "    # Calcular a média da variável alvo por categoria   \n",
    "    means = train_data.groupby(by=train_col)[target_col].mean()\n",
    "    \n",
    "    # Mapear a média calculada para o conjunto de treino\n",
    "    train_encoded = train_data[train_col].map(means)\n",
    "    \n",
    "    # Aplicar o mapeamento também para os dados de teste (com valores conhecidos no treino)\n",
    "    test_encoded = test_data[test_col].map(means)\n",
    "    global_mean = train_data[target_col].mean()\n",
    "    test_encoded = test_encoded.fillna(global_mean)\n",
    "    \n",
    "    return train_encoded, test_encoded\n",
    "\n",
    "# Codificar as variáveis categóricas: 'artists', 'track_genre' e 'album_name'\n",
    "train_data['artists'], test_data['artists'] = target_encode('artists', 'popularity_target', 'artists')\n",
    "train_data['track_genre'], test_data['track_genre'] = target_encode('track_genre', 'popularity_target', 'track_genre')\n",
    "train_data['album_name'], test_data['album_name'] = target_encode('album_name', 'popularity_target', 'album_name')\n",
    "\n",
    "# Aplicando a codificação alvo (Target Encoding)\n",
    "# Criar variável de contagem de artistas\n",
    "train_data['num_artists'] = train_data['artists'].apply(lambda x: len(x.split(';')) if isinstance(x, str) else 0)\n",
    "test_data['num_artists'] = test_data['artists'].apply(lambda x: len(x.split(';')) if isinstance(x, str) else 0)"
   ]
  },
  {
   "cell_type": "markdown",
   "metadata": {},
   "source": [
    "##  Normalização dos Dados"
   ]
  },
  {
   "cell_type": "markdown",
   "metadata": {},
   "source": [
    "As variáveis numéricas são normalizadas usando o MinMaxScaler. A normalização ajuda a colocar todas as características na mesma escala, melhorando o desempenho dos modelos de machine learning."
   ]
  },
  {
   "cell_type": "code",
   "execution_count": 6,
   "metadata": {},
   "outputs": [],
   "source": [
    "# Normalizar colunas numéricas para garantir que estejam na mesma escala\n",
    "numeric_features = ['tempo', 'loudness', 'duration_ms', 'num_artists']\n",
    "scaler = MinMaxScaler()\n",
    "\n",
    "# Ajustar o scaler e transformar os dados de treino\n",
    "train_data[numeric_features] = scaler.fit_transform(train_data[numeric_features])\n",
    "# Transformar os dados de teste\n",
    "test_data[numeric_features] = scaler.transform(test_data[numeric_features])\n"
   ]
  },
  {
   "cell_type": "markdown",
   "metadata": {},
   "source": [
    "## Separação de Features e Target"
   ]
  },
  {
   "cell_type": "markdown",
   "metadata": {},
   "source": [
    "Os dados são separados em variáveis independentes (features) e a variável dependente (target) para o treinamento do modelo."
   ]
  },
  {
   "cell_type": "code",
   "execution_count": 7,
   "metadata": {},
   "outputs": [],
   "source": [
    "# Separar os dados em features (X) e target (y)\n",
    "X = train_data.drop(columns=['popularity_target', 'artists', 'track_unique_id'])\n",
    "y = train_data['popularity_target']\n",
    "X_test = test_data.drop(columns=['artists', 'track_unique_id'])\n"
   ]
  },
  {
   "cell_type": "markdown",
   "metadata": {},
   "source": [
    "##  Divisão dos Dados em Treino e Validação"
   ]
  },
  {
   "cell_type": "markdown",
   "metadata": {},
   "source": [
    "O conjunto de treino é dividido em subconjuntos de treino e validação. Isso permite que o modelo seja avaliado em um conjunto de dados que não foi utilizado durante o treinamento."
   ]
  },
  {
   "cell_type": "code",
   "execution_count": 8,
   "metadata": {},
   "outputs": [],
   "source": [
    "# Dividir o conjunto de treino em treino e validação\n",
    "X_train, X_valid, y_train, y_valid = train_test_split(X, y, test_size=0.1, random_state=42)\n"
   ]
  },
  {
   "cell_type": "markdown",
   "metadata": {},
   "source": [
    "## Construção e Avaliação do Modelo"
   ]
  },
  {
   "cell_type": "markdown",
   "metadata": {},
   "source": [
    "Um modelo de Random Forest é treinado e avaliado usando várias métricas. Isso fornece uma visão clara do desempenho do modelo. \n",
    "\n",
    "O modelo de Random Forest é avaliado com base em métricas como acurácia, precisão, recall e F1-score. Essas métricas são essenciais para entender o desempenho do modelo."
   ]
  },
  {
   "cell_type": "code",
   "execution_count": 9,
   "metadata": {},
   "outputs": [
    {
     "name": "stdout",
     "output_type": "stream",
     "text": [
      "Accuracy: 0.9714285714285714\n",
      "Precision: 0.9714350355526825\n",
      "Recall: 0.9714285714285714\n",
      "F1 Score: 0.9714296057609729\n",
      "Confusion Matrix:\n",
      "[[3972  120]\n",
      " [ 108 3780]]\n"
     ]
    }
   ],
   "source": [
    "# Criar e treinar o modelo de Random Forest\n",
    "rf_model = RandomForestClassifier(\n",
    "    n_estimators=100,        # Número de árvores \n",
    "    max_depth=30,            # Profundidade das árvores\n",
    "    min_samples_split=2,     # Mínimo de amostras para um nó\n",
    "    min_samples_leaf=1,      # Mínimo de amostras em folha\n",
    "    random_state=42,         # Peprodutibilidade\n",
    "    n_jobs=-1                # Usar todos os núcleos\n",
    ")\n",
    "\n",
    "# Ajustar o modelo nos dados de treino\n",
    "rf_model.fit(X_train, y_train)\n",
    "\n",
    "# Fazer previsões no conjunto de validação\n",
    "valid_preds = rf_model.predict(X_valid)\n",
    "\n",
    "# Avaliar o modelo\n",
    "accuracy = accuracy_score(y_valid, valid_preds)\n",
    "precision = precision_score(y_valid, valid_preds, average='weighted')\n",
    "recall = recall_score(y_valid, valid_preds, average='weighted')\n",
    "f1 = f1_score(y_valid, valid_preds, average='weighted')\n",
    "conf_matrix = confusion_matrix(y_valid, valid_preds)\n",
    "\n",
    "# Exibir as métricas de avaliação do modelo\n",
    "print(f'Accuracy: {accuracy}')\n",
    "print(f'Precision: {precision}')\n",
    "print(f'Recall: {recall}')\n",
    "print(f'F1 Score: {f1}')\n",
    "print(f'Confusion Matrix:\\n{conf_matrix}')\n"
   ]
  },
  {
   "cell_type": "markdown",
   "metadata": {},
   "source": [
    "## Ajuste Hiperparâmetros"
   ]
  },
  {
   "cell_type": "markdown",
   "metadata": {},
   "source": [
    "Nesta etapa, o modelo é treinado novamente com todo o conjunto de dados e previsões são feitas no conjunto de teste. Isso garante que o modelo seja otimizado antes da previsão final."
   ]
  },
  {
   "cell_type": "code",
   "execution_count": 10,
   "metadata": {},
   "outputs": [],
   "source": [
    "# Treinar o modelo com todo o conjunto de treino\n",
    "rf_model.fit(X, y)\n",
    "\n",
    "# Fazer previsões no conjunto de teste\n",
    "test_preds = rf_model.predict(X_test)\n"
   ]
  },
  {
   "cell_type": "markdown",
   "metadata": {},
   "source": [
    "## Criação do DataFrame de Submissão"
   ]
  },
  {
   "cell_type": "code",
   "execution_count": 11,
   "metadata": {},
   "outputs": [],
   "source": [
    "# Criar o dataframe de submissão\n",
    "submission = pd.DataFrame({\n",
    "    'track_unique_id': test_data['track_unique_id'],  # Certifique-se de usar o campo correto para ID\n",
    "    'popularity_target': test_preds.astype(int)  # Converter previsões para inteiros\n",
    "})\n",
    "\n",
    "# Agrupar por 'track_unique_id' e ajustar 'popularity_target'\n",
    "submission_grouped = submission.groupby('track_unique_id', as_index=False).agg({\n",
    "    'popularity_target': 'max'  # 'max' irá garantir que pelo menos um 1 seja mantido, caso exista\n",
    "})\n",
    "\n",
    "# Salvar o arquivo de submissão agrupado\n",
    "submission_grouped.to_csv('submissao_spotify.csv', index=False)\n"
   ]
  },
  {
   "cell_type": "markdown",
   "metadata": {},
   "source": [
    "## Formulação de Hipóteses"
   ]
  },
  {
   "cell_type": "markdown",
   "metadata": {},
   "source": [
    "**Hipótese 1: Tempo de Música e Popularidade**\n",
    "\n",
    "- Músicas com duração muito curta ou muito longa tendem a ter uma popularidade mais baixa, enquanto músicas com tempo médio (entre os dois extremos) apresentam maior popularidade. Isso pode ocorrer porque o público pode preferir músicas que se encaixam em um formato mais tradicional ou que oferecem uma experiência mais envolvente, sem se tornar cansativas."
   ]
  },
  {
   "cell_type": "code",
   "execution_count": 13,
   "metadata": {},
   "outputs": [
    {
     "data": {
      "image/png": "[encoded data removed]",
      "text/plain": [
       "<Figure size 1000x600 with 1 Axes>"
      ]
     },
     "metadata": {},
     "output_type": "display_data"
    }
   ],
   "source": [
    "import matplotlib.pyplot as plt\n",
    "\n",
    "plt.figure(figsize=(10, 6))\n",
    "plt.hist(train_data['tempo'], bins=20, color='blue')  # bins define o número de intervalos\n",
    "plt.xlabel('Tempo')\n",
    "plt.ylabel('Frequência')\n",
    "plt.title('Distribuição de Tempo')\n",
    "plt.show()\n"
   ]
  },
  {
   "cell_type": "markdown",
   "metadata": {},
   "source": [
    "O pllot desse gráfico permite uma visualização clara das diferenças de popularidade média entre os diferentes gêneros musicais. Ao observar as alturas das barras, podemos identificar quais gêneros tendem a ter uma maior média de popularidade e quais têm uma menor. Esse tipo de análise é útil para compreender as preferências do público e pode informar decisões sobre marketing e produção musical."
   ]
  },
  {
   "cell_type": "markdown",
   "metadata": {},
   "source": [
    "\n",
    "**Hipótese 2: Conteúdo Explícito nas Músicas E Popularidade**\n",
    "\n",
    "- A hipótese de que conteúdos explícitos em músicas não interferem na popularidade sugere que a presença de termos ou temáticas explícitas, como palavrões ou conteúdo sensível, não afeta a aceitação ou adesão do público. Nesse contexto, espera-se que a popularidade das músicas explícitas seja semelhante à das músicas não explícitas, indicando que o público não se preocupa significativamente com essa característica ao decidir consumir uma faixa. Para verificar essa hipótese, é necessário analisar estatisticamente a popularidade média de músicas com e sem conteúdos explícitos, observando se há uma diferença considerável ou se ambas mantêm níveis de popularidade equivalentes."
   ]
  },
  {
   "cell_type": "code",
   "execution_count": 14,
   "metadata": {},
   "outputs": [
    {
     "name": "stderr",
     "output_type": "stream",
     "text": [
      "C:\\Users\\Inteli\\AppData\\Local\\Temp\\ipykernel_1656\\33311620.py:14: FutureWarning: \n",
      "\n",
      "Passing `palette` without assigning `hue` is deprecated and will be removed in v0.14.0. Assign the `x` variable to `hue` and set `legend=False` for the same effect.\n",
      "\n",
      "  sns.barplot(x=['Explícitas', 'Não Explícitas'], y=[explicit_mean_popularity, non_explicit_mean_popularity], palette='Blues')\n"
     ]
    },
    {
     "data": {
      "image/png": "[encoded data removed]",
      "text/plain": [
       "<Figure size 800x600 with 1 Axes>"
      ]
     },
     "metadata": {},
     "output_type": "display_data"
    },
    {
     "name": "stdout",
     "output_type": "stream",
     "text": [
      "Popularidade média das músicas explícitas: 0.5144779175197426\n",
      "Popularidade média das músicas não explícitas: 0.4853485375949124\n"
     ]
    }
   ],
   "source": [
    "import matplotlib.pyplot as plt\n",
    "import seaborn as sns\n",
    "\n",
    "# Separar as músicas em explícitas e não explícitas\n",
    "explicit_songs = train_data[train_data['explicit'] == 1]\n",
    "non_explicit_songs = train_data[train_data['explicit'] == 0]\n",
    "\n",
    "# Calcular a popularidade média para cada grupo\n",
    "explicit_mean_popularity = explicit_songs['popularity_target'].mean()\n",
    "non_explicit_mean_popularity = non_explicit_songs['popularity_target'].mean()\n",
    "\n",
    "# Criar um gráfico de barras para visualizar a comparação\n",
    "plt.figure(figsize=(8, 6))\n",
    "sns.barplot(x=['Explícitas', 'Não Explícitas'], y=[explicit_mean_popularity, non_explicit_mean_popularity], palette='Blues')\n",
    "\n",
    "# Adicionar título e rótulos aos eixos\n",
    "plt.title('Popularidade Média: Músicas Explícitas vs. Não Explícitas')\n",
    "plt.ylabel('Popularidade Média')\n",
    "plt.xlabel('Tipo de Música')\n",
    "plt.show()\n",
    "\n",
    "# Exibir as médias\n",
    "print(f\"Popularidade média das músicas explícitas: {explicit_mean_popularity}\")\n",
    "print(f\"Popularidade média das músicas não explícitas: {non_explicit_mean_popularity}\")\n"
   ]
  },
  {
   "cell_type": "markdown",
   "metadata": {},
   "source": [
    "Diante do gráfico gerado, observa-se que o conteúdo explícito não exerce uma influência negativa sobre a popularidade das músicas, ao contrário do que poderia ser inicialmente esperado. De forma mais detalhada, a análise sugere que músicas com conteúdo explícito apresentam, em alguns casos, um leve aumento na popularidade. Isso indica que a presença de linguagem ou temas explícitos não afasta o público em geral e, em certas situações, pode até estar associada a um apelo maior junto a determinados ouvintes. Portanto, essa evidência sugere que o fator \"explicit\" não deve ser visto como um elemento limitador de sucesso no mercado musical, podendo, ao contrário, agregar à popularidade de algumas faixas."
   ]
  },
  {
   "cell_type": "markdown",
   "metadata": {},
   "source": [
    "**Hipótese 3: Número de Artistas**\n",
    "\n",
    "- O número de artistas envolvidos em uma música pode influenciar sua popularidade. Músicas com colaborações entre múltiplos artistas podem se tornar mais populares, uma vez que combinam diferentes bases de fãs e aumentam a visibilidade. Essa hipótese pode ser testada através da comparação de médias de popularidade entre músicas solo e colaborações."
   ]
  },
  {
   "cell_type": "code",
   "execution_count": 1,
   "metadata": {},
   "outputs": [
    {
     "ename": "NameError",
     "evalue": "name 'train_data' is not defined",
     "output_type": "error",
     "traceback": [
      "\u001b[1;31m---------------------------------------------------------------------------\u001b[0m",
      "\u001b[1;31mNameError\u001b[0m                                 Traceback (most recent call last)",
      "Cell \u001b[1;32mIn[1], line 2\u001b[0m\n\u001b[0;32m      1\u001b[0m \u001b[38;5;66;03m# Criar uma coluna com o número de artistas\u001b[39;00m\n\u001b[1;32m----> 2\u001b[0m train_data[\u001b[38;5;124m'\u001b[39m\u001b[38;5;124mnum_artists\u001b[39m\u001b[38;5;124m'\u001b[39m] \u001b[38;5;241m=\u001b[39m \u001b[43mtrain_data\u001b[49m[\u001b[38;5;124m'\u001b[39m\u001b[38;5;124martists\u001b[39m\u001b[38;5;124m'\u001b[39m]\u001b[38;5;241m.\u001b[39mapply(\u001b[38;5;28;01mlambda\u001b[39;00m x: \u001b[38;5;28mlen\u001b[39m(x\u001b[38;5;241m.\u001b[39msplit(\u001b[38;5;124m'\u001b[39m\u001b[38;5;124m;\u001b[39m\u001b[38;5;124m'\u001b[39m)) \u001b[38;5;28;01mif\u001b[39;00m \u001b[38;5;28misinstance\u001b[39m(x, \u001b[38;5;28mstr\u001b[39m) \u001b[38;5;28;01melse\u001b[39;00m \u001b[38;5;241m0\u001b[39m)\n\u001b[0;32m      4\u001b[0m \u001b[38;5;66;03m# Calcular a média de popularidade por número de artistas\u001b[39;00m\n\u001b[0;32m      5\u001b[0m popularity_by_num_artists \u001b[38;5;241m=\u001b[39m train_data\u001b[38;5;241m.\u001b[39mgroupby(\u001b[38;5;124m'\u001b[39m\u001b[38;5;124mnum_artists\u001b[39m\u001b[38;5;124m'\u001b[39m)[\u001b[38;5;124m'\u001b[39m\u001b[38;5;124mpopularity_target\u001b[39m\u001b[38;5;124m'\u001b[39m]\u001b[38;5;241m.\u001b[39mmean()\u001b[38;5;241m.\u001b[39mreset_index()\n",
      "\u001b[1;31mNameError\u001b[0m: name 'train_data' is not defined"
     ]
    }
   ],
   "source": [
    "# Criar uma coluna com o número de artistas\n",
    "train_data['num_artists'] = train_data['artists'].apply(lambda x: len(x.split(';')) if isinstance(x, str) else 0)\n",
    "\n",
    "# Calcular a média de popularidade por número de artistas\n",
    "popularity_by_num_artists = train_data.groupby('num_artists')['popularity_target'].mean().reset_index()\n",
    "\n",
    "# Criar um gráfico de barras\n",
    "plt.figure(figsize=(12, 6))\n",
    "sns.barplot(x='num_artists', y='popularity_target', data=popularity_by_num_artists)\n",
    "plt.title('Média de Popularidade por Número de Artistas')\n",
    "plt.xlabel('Número de Artistas')\n",
    "plt.ylabel('Média de Popularidade')\n",
    "plt.show()"
   ]
  },
  {
   "cell_type": "markdown",
   "metadata": {},
   "source": [
    "## Conclusão\n"
   ]
  },
  {
   "cell_type": "markdown",
   "metadata": {},
   "source": [
    "A análise realizada neste projeto oferece uma visão detalhada da popularidade das músicas e fornece um modelo preditivo que pode ser utilizado para prever a popularidade de novas faixas. A qualidade da análise e as decisões tomadas em cada etapa são cruciais para o sucesso do modelo, que deve ser avaliado continuamente para garantir sua eficácia e precisão."
   ]
  }
 ],
 "metadata": {
  "kernelspec": {
   "display_name": "Python 3",
   "language": "python",
   "name": "python3"
  },
  "language_info": {
   "codemirror_mode": {
    "name": "ipython",
    "version": 3
   },
   "file_extension": ".py",
   "mimetype": "text/x-python",
   "name": "python",
   "nbconvert_exporter": "python",
   "pygments_lexer": "ipython3",
   "version": "3.12.6"
  }
 },
 "nbformat": 4,
 "nbformat_minor": 2
}
